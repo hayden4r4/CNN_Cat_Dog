{
 "cells": [
  {
   "cell_type": "code",
   "execution_count": 1,
   "metadata": {},
   "outputs": [],
   "source": [
    "import tensorflow as tf\n",
    "import tensorflow.experimental.numpy as tnp\n",
    "from tensorflow.keras.preprocessing.image import load_img, img_to_array, array_to_img, ImageDataGenerator\n",
    "import matplotlib.pyplot as plt\n",
    "import os, os.path\n",
    "\n",
    "tnp.experimental_enable_numpy_behavior()"
   ]
  },
  {
   "cell_type": "code",
   "execution_count": 15,
   "metadata": {},
   "outputs": [
    {
     "name": "stdout",
     "output_type": "stream",
     "text": [
      "Found 25000 files belonging to 2 classes.\n",
      "Using 20000 files for training.\n",
      "Found 25000 files belonging to 2 classes.\n",
      "Using 5000 files for validation.\n",
      "Found 2000 files belonging to 2 classes.\n"
     ]
    }
   ],
   "source": [
    "img_height = 200,\n",
    "img_width = 200,\n",
    "test_dir = r'./data/test/'\n",
    "train_dir = r'./data/train/'\n",
    "class_names=[\"cats\", \"dogs\"]\n",
    "seed=1234\n",
    "batch_size=32\n",
    "\n",
    "train_x = tf.keras.utils.image_dataset_from_directory(\n",
    "    directory = train_dir,\n",
    "    validation_split=0.2,\n",
    "    batch_size=batch_size,\n",
    "    image_size=(200,200),\n",
    "    subset=\"training\",\n",
    "    seed=seed,\n",
    ")\n",
    "\n",
    "cv_x = tf.keras.utils.image_dataset_from_directory(\n",
    "    directory = train_dir,\n",
    "    validation_split=0.2,\n",
    "    batch_size=batch_size,\n",
    "    image_size=(200,200),\n",
    "    subset=\"validation\",\n",
    "    seed=seed,\n",
    ")\n",
    "\n",
    "test_x = tf.keras.utils.image_dataset_from_directory(\n",
    "    directory = test_dir,\n",
    "    batch_size=batch_size,\n",
    "    image_size=(200,200),\n",
    "    shuffle=False,\n",
    "    seed=seed,\n",
    ")"
   ]
  },
  {
   "cell_type": "code",
   "execution_count": 11,
   "metadata": {},
   "outputs": [
    {
     "name": "stdout",
     "output_type": "stream",
     "text": [
      "Found 25000 files belonging to 2 classes.\n",
      "Using 20000 files for training.\n",
      "Found 25000 files belonging to 2 classes.\n",
      "Using 5000 files for validation.\n",
      "Found 2000 files belonging to 2 classes.\n"
     ]
    }
   ],
   "source": [
    "img_height = 200,\n",
    "img_width = 200,\n",
    "test_dir = r'./data/test/'\n",
    "train_dir = r'./data/train/'\n",
    "class_names=[\"cats\", \"dogs\"]\n",
    "seed=1234\n",
    "batch_size = 32\n",
    "\n",
    "\n",
    "train_x = tf.keras.utils.image_dataset_from_directory(\n",
    "    directory = train_dir,\n",
    "    validation_split=0.2,\n",
    "    subset=\"training\",\n",
    "    class_names=class_names,\n",
    "    seed=seed,\n",
    ")\n",
    "\n",
    "cv_x = tf.keras.utils.image_dataset_from_directory(\n",
    "    directory = train_dir,\n",
    "    validation_split=0.2,\n",
    "    subset=\"validation\",\n",
    "    class_names=class_names,\n",
    "    seed=seed,\n",
    ")\n",
    "\n",
    "test_x = tf.keras.utils.image_dataset_from_directory(\n",
    "    directory = test_dir,\n",
    "    image_size=(200,200),\n",
    "    class_names=class_names,\n",
    "    seed=seed,\n",
    ")"
   ]
  },
  {
   "cell_type": "code",
   "execution_count": 7,
   "metadata": {},
   "outputs": [],
   "source": [
    "AUTOTUNE = tf.data.AUTOTUNE\n",
    "train_x = train_x.cache().prefetch(buffer_size=AUTOTUNE)\n",
    "cv_x = cv_x.cache().prefetch(buffer_size=AUTOTUNE)"
   ]
  },
  {
   "cell_type": "code",
   "execution_count": 8,
   "metadata": {},
   "outputs": [],
   "source": [
    "model = tf.keras.Sequential([\n",
    "    tf.keras.layers.Resizing(height=200,width=200),\n",
    "    tf.keras.layers.Rescaling(1.0/255.0),\n",
    "    # tf.keras.layers.RandomContrast(0.2, seed=1234),\n",
    "    # tf.keras.layers.RandomBrightness(0.2, seed=1234),\n",
    "    tf.keras.layers.RandomRotation(0.2, seed=1234),\n",
    "    tf.keras.layers.RandomFlip(seed=1234),\n",
    "    tf.keras.layers.RandomZoom(0.2, seed=1234),\n",
    "    tf.keras.layers.BatchNormalization(),\n",
    "    tf.keras.layers.Conv2D(32, 3, activation='relu'),\n",
    "    tf.keras.layers.BatchNormalization(),\n",
    "    tf.keras.layers.MaxPooling2D(pool_size=(2, 2)),\n",
    "    tf.keras.layers.Dropout(0.25),\n",
    "    tf.keras.layers.Conv2D(32, 3, activation='relu'),\n",
    "    tf.keras.layers.BatchNormalization(),\n",
    "    tf.keras.layers.MaxPooling2D(pool_size=(2, 2)),\n",
    "    tf.keras.layers.Dropout(0.25),\n",
    "    tf.keras.layers.Conv2D(32, 3, activation='relu'),\n",
    "    tf.keras.layers.BatchNormalization(),\n",
    "    tf.keras.layers.MaxPooling2D(pool_size=(2, 2)),\n",
    "    tf.keras.layers.Dropout(0.25),\n",
    "    tf.keras.layers.Flatten(),\n",
    "    tf.keras.layers.Dense(128, activation='relu'),\n",
    "    tf.keras.layers.BatchNormalization(),\n",
    "    tf.keras.layers.Dropout(0.5),\n",
    "    tf.keras.layers.Dense(2, activation='softmax'),\n",
    "])"
   ]
  },
  {
   "cell_type": "code",
   "execution_count": 9,
   "metadata": {},
   "outputs": [],
   "source": [
    "model.compile(\n",
    "    optimizer=tf.keras.optimizers.Adam(),\n",
    "    loss=tf.keras.losses.SparseCategoricalCrossentropy(),\n",
    "    metrics=['accuracy']\n",
    ")"
   ]
  },
  {
   "cell_type": "code",
   "execution_count": 12,
   "metadata": {},
   "outputs": [
    {
     "name": "stdout",
     "output_type": "stream",
     "text": [
      "Epoch 1/25\n",
      "625/625 [==============================] - 97s 155ms/step - loss: 0.4067 - accuracy: 0.8151 - val_loss: 0.4750 - val_accuracy: 0.7986 - lr: 6.2500e-05\n",
      "Epoch 2/25\n",
      "625/625 [==============================] - 129s 206ms/step - loss: 0.4073 - accuracy: 0.8131 - val_loss: 0.5050 - val_accuracy: 0.7890 - lr: 6.2500e-05\n",
      "Epoch 3/25\n",
      "625/625 [==============================] - ETA: 0s - loss: 0.4052 - accuracy: 0.8139\n",
      "Epoch 3: ReduceLROnPlateau reducing learning rate to 3.125000148429535e-05.\n",
      "625/625 [==============================] - 127s 204ms/step - loss: 0.4052 - accuracy: 0.8139 - val_loss: 0.4799 - val_accuracy: 0.7972 - lr: 6.2500e-05\n",
      "Epoch 4/25\n",
      "625/625 [==============================] - 105s 167ms/step - loss: 0.4041 - accuracy: 0.8160 - val_loss: 0.4985 - val_accuracy: 0.7886 - lr: 3.1250e-05\n",
      "Epoch 5/25\n",
      "625/625 [==============================] - ETA: 0s - loss: 0.3984 - accuracy: 0.8202\n",
      "Epoch 5: ReduceLROnPlateau reducing learning rate to 1.5625000742147677e-05.\n",
      "625/625 [==============================] - 87s 139ms/step - loss: 0.3984 - accuracy: 0.8202 - val_loss: 0.5077 - val_accuracy: 0.7866 - lr: 3.1250e-05\n",
      "Epoch 6/25\n",
      "625/625 [==============================] - 99s 158ms/step - loss: 0.4004 - accuracy: 0.8174 - val_loss: 0.4973 - val_accuracy: 0.7888 - lr: 1.5625e-05\n",
      "Epoch 7/25\n",
      "625/625 [==============================] - ETA: 0s - loss: 0.3996 - accuracy: 0.8194\n",
      "Epoch 7: ReduceLROnPlateau reducing learning rate to 1e-05.\n",
      "625/625 [==============================] - 96s 153ms/step - loss: 0.3996 - accuracy: 0.8194 - val_loss: 0.5114 - val_accuracy: 0.7838 - lr: 1.5625e-05\n",
      "Epoch 8/25\n",
      "625/625 [==============================] - 84s 134ms/step - loss: 0.3954 - accuracy: 0.8206 - val_loss: 0.5195 - val_accuracy: 0.7798 - lr: 1.0000e-05\n",
      "Epoch 9/25\n",
      "625/625 [==============================] - 78s 125ms/step - loss: 0.3978 - accuracy: 0.8225 - val_loss: 0.5179 - val_accuracy: 0.7800 - lr: 1.0000e-05\n",
      "Epoch 10/25\n",
      "625/625 [==============================] - 110s 176ms/step - loss: 0.3998 - accuracy: 0.8181 - val_loss: 0.5142 - val_accuracy: 0.7822 - lr: 1.0000e-05\n",
      "Epoch 11/25\n",
      "625/625 [==============================] - ETA: 0s - loss: 0.3983 - accuracy: 0.8194Restoring model weights from the end of the best epoch: 1.\n",
      "625/625 [==============================] - 91s 145ms/step - loss: 0.3983 - accuracy: 0.8194 - val_loss: 0.5169 - val_accuracy: 0.7820 - lr: 1.0000e-05\n",
      "Epoch 11: early stopping\n"
     ]
    }
   ],
   "source": [
    "history = model.fit(\n",
    "  train_x,\n",
    "  validation_data=cv_x,\n",
    "  epochs=25,\n",
    "  callbacks=[\n",
    "      tf.keras.callbacks.EarlyStopping(\n",
    "                                      patience=10,\n",
    "                                      verbose=1,\n",
    "                                      restore_best_weights=True\n",
    "                                      ), \n",
    "      tf.keras.callbacks.ReduceLROnPlateau(\n",
    "                                          monitor='val_accuracy', \n",
    "                                          patience=2, \n",
    "                                          verbose=1, \n",
    "                                          factor=0.5, \n",
    "                                          min_lr=0.00001\n",
    "                                          )\n",
    "]\n",
    ")\n"
   ]
  },
  {
   "cell_type": "code",
   "execution_count": 14,
   "metadata": {},
   "outputs": [
    {
     "name": "stdout",
     "output_type": "stream",
     "text": [
      "Model: \"sequential_1\"\n",
      "_________________________________________________________________\n",
      " Layer (type)                Output Shape              Param #   \n",
      "=================================================================\n",
      " resizing_1 (Resizing)       (None, 200, 200, 3)       0         \n",
      "                                                                 \n",
      " rescaling_1 (Rescaling)     (None, 200, 200, 3)       0         \n",
      "                                                                 \n",
      " random_rotation_1 (RandomRo  (None, 200, 200, 3)      0         \n",
      " tation)                                                         \n",
      "                                                                 \n",
      " random_flip_1 (RandomFlip)  (None, 200, 200, 3)       0         \n",
      "                                                                 \n",
      " random_zoom_1 (RandomZoom)  (None, 200, 200, 3)       0         \n",
      "                                                                 \n",
      " batch_normalization_4 (Batc  (None, 200, 200, 3)      12        \n",
      " hNormalization)                                                 \n",
      "                                                                 \n",
      " conv2d_2 (Conv2D)           (None, 198, 198, 32)      896       \n",
      "                                                                 \n",
      " batch_normalization_5 (Batc  (None, 198, 198, 32)     128       \n",
      " hNormalization)                                                 \n",
      "                                                                 \n",
      " max_pooling2d_2 (MaxPooling  (None, 99, 99, 32)       0         \n",
      " 2D)                                                             \n",
      "                                                                 \n",
      " dropout_3 (Dropout)         (None, 99, 99, 32)        0         \n",
      "                                                                 \n",
      " conv2d_3 (Conv2D)           (None, 97, 97, 32)        9248      \n",
      "                                                                 \n",
      " batch_normalization_6 (Batc  (None, 97, 97, 32)       128       \n",
      " hNormalization)                                                 \n",
      "                                                                 \n",
      " max_pooling2d_3 (MaxPooling  (None, 48, 48, 32)       0         \n",
      " 2D)                                                             \n",
      "                                                                 \n",
      " dropout_4 (Dropout)         (None, 48, 48, 32)        0         \n",
      "                                                                 \n",
      " conv2d_4 (Conv2D)           (None, 46, 46, 32)        9248      \n",
      "                                                                 \n",
      " batch_normalization_7 (Batc  (None, 46, 46, 32)       128       \n",
      " hNormalization)                                                 \n",
      "                                                                 \n",
      " max_pooling2d_4 (MaxPooling  (None, 23, 23, 32)       0         \n",
      " 2D)                                                             \n",
      "                                                                 \n",
      " dropout_5 (Dropout)         (None, 23, 23, 32)        0         \n",
      "                                                                 \n",
      " flatten_1 (Flatten)         (None, 16928)             0         \n",
      "                                                                 \n",
      " dense_2 (Dense)             (None, 128)               2166912   \n",
      "                                                                 \n",
      " batch_normalization_8 (Batc  (None, 128)              512       \n",
      " hNormalization)                                                 \n",
      "                                                                 \n",
      " dropout_6 (Dropout)         (None, 128)               0         \n",
      "                                                                 \n",
      " dense_3 (Dense)             (None, 2)                 258       \n",
      "                                                                 \n",
      "=================================================================\n",
      "Total params: 2,187,470\n",
      "Trainable params: 2,187,016\n",
      "Non-trainable params: 454\n",
      "_________________________________________________________________\n"
     ]
    }
   ],
   "source": [
    "model.summary()"
   ]
  },
  {
   "cell_type": "code",
   "execution_count": 4,
   "metadata": {},
   "outputs": [
    {
     "name": "stderr",
     "output_type": "stream",
     "text": [
      "2022-08-07 12:57:41.506893: I tensorflow/stream_executor/cuda/cuda_gpu_executor.cc:975] successful NUMA node read from SysFS had negative value (-1), but there must be at least one NUMA node, so returning NUMA node zero\n",
      "2022-08-07 12:57:41.546518: I tensorflow/stream_executor/cuda/cuda_gpu_executor.cc:975] successful NUMA node read from SysFS had negative value (-1), but there must be at least one NUMA node, so returning NUMA node zero\n",
      "2022-08-07 12:57:41.546698: I tensorflow/stream_executor/cuda/cuda_gpu_executor.cc:975] successful NUMA node read from SysFS had negative value (-1), but there must be at least one NUMA node, so returning NUMA node zero\n",
      "2022-08-07 12:57:41.547432: I tensorflow/core/platform/cpu_feature_guard.cc:193] This TensorFlow binary is optimized with oneAPI Deep Neural Network Library (oneDNN) to use the following CPU instructions in performance-critical operations:  AVX2 FMA\n",
      "To enable them in other operations, rebuild TensorFlow with the appropriate compiler flags.\n",
      "2022-08-07 12:57:41.547878: I tensorflow/stream_executor/cuda/cuda_gpu_executor.cc:975] successful NUMA node read from SysFS had negative value (-1), but there must be at least one NUMA node, so returning NUMA node zero\n",
      "2022-08-07 12:57:41.548068: I tensorflow/stream_executor/cuda/cuda_gpu_executor.cc:975] successful NUMA node read from SysFS had negative value (-1), but there must be at least one NUMA node, so returning NUMA node zero\n",
      "2022-08-07 12:57:41.548190: I tensorflow/stream_executor/cuda/cuda_gpu_executor.cc:975] successful NUMA node read from SysFS had negative value (-1), but there must be at least one NUMA node, so returning NUMA node zero\n",
      "2022-08-07 12:57:42.081655: I tensorflow/stream_executor/cuda/cuda_gpu_executor.cc:975] successful NUMA node read from SysFS had negative value (-1), but there must be at least one NUMA node, so returning NUMA node zero\n",
      "2022-08-07 12:57:42.081803: I tensorflow/stream_executor/cuda/cuda_gpu_executor.cc:975] successful NUMA node read from SysFS had negative value (-1), but there must be at least one NUMA node, so returning NUMA node zero\n",
      "2022-08-07 12:57:42.081913: I tensorflow/stream_executor/cuda/cuda_gpu_executor.cc:975] successful NUMA node read from SysFS had negative value (-1), but there must be at least one NUMA node, so returning NUMA node zero\n",
      "2022-08-07 12:57:42.081998: I tensorflow/core/common_runtime/gpu/gpu_device.cc:1532] Created device /job:localhost/replica:0/task:0/device:GPU:0 with 4689 MB memory:  -> device: 0, name: NVIDIA GeForce GTX 1070, pci bus id: 0000:01:00.0, compute capability: 6.1\n"
     ]
    }
   ],
   "source": [
    "model = tf.keras.models.load_model('cat_dog.model')"
   ]
  },
  {
   "cell_type": "code",
   "execution_count": 22,
   "metadata": {},
   "outputs": [
    {
     "name": "stdout",
     "output_type": "stream",
     "text": [
      "63/63 [==============================] - 2s 27ms/step - loss: 0.4410 - accuracy: 0.8075\n"
     ]
    },
    {
     "data": {
      "text/plain": [
       "[0.44097664952278137, 0.8075000047683716]"
      ]
     },
     "execution_count": 22,
     "metadata": {},
     "output_type": "execute_result"
    }
   ],
   "source": [
    "model.evaluate(test_x)"
   ]
  },
  {
   "cell_type": "code",
   "execution_count": 26,
   "metadata": {},
   "outputs": [
    {
     "name": "stdout",
     "output_type": "stream",
     "text": [
      "1/1 [==============================] - 0s 22ms/step\n"
     ]
    },
    {
     "data": {
      "image/png": "[encoded data removed]",
      "text/plain": [
       "<PIL.Image.Image image mode=RGB size=200x200>"
      ]
     },
     "metadata": {},
     "output_type": "display_data"
    },
    {
     "name": "stdout",
     "output_type": "stream",
     "text": [
      "Prediction: 99.98573064804077% cat\n"
     ]
    }
   ],
   "source": [
    "kitten = load_img('kitten.jpg', target_size=(200, 200))\n",
    "kitten = img_to_array(kitten)\n",
    "prediction = model.predict(kitten.reshape(1, 200, 200, 3))\n",
    "classes = ['cat', 'dog']\n",
    "display(array_to_img(kitten))\n",
    "print(f'Prediction: {prediction.max()*100}% {classes[prediction.argmax()]}')"
   ]
  },
  {
   "cell_type": "code",
   "execution_count": null,
   "metadata": {},
   "outputs": [],
   "source": []
  }
 ],
 "metadata": {
  "kernelspec": {
   "display_name": "Python 3.10.4 ('tensorflow_env')",
   "language": "python",
   "name": "python3"
  },
  "language_info": {
   "codemirror_mode": {
    "name": "ipython",
    "version": 3
   },
   "file_extension": ".py",
   "mimetype": "text/x-python",
   "name": "python",
   "nbconvert_exporter": "python",
   "pygments_lexer": "ipython3",
   "version": "3.10.5"
  },
  "orig_nbformat": 4,
  "vscode": {
   "interpreter": {
    "hash": "8b4de8167b39cf3ed77ee7a26442051ae115815023d627a77a0ec6c921034c1c"
   }
  }
 },
 "nbformat": 4,
 "nbformat_minor": 2
}
